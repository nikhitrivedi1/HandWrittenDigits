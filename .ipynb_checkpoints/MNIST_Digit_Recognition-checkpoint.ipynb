{
 "cells": [
  {
   "cell_type": "code",
   "execution_count": 55,
   "id": "f4106d0b-4cd6-4810-873f-874bb55e3abf",
   "metadata": {},
   "outputs": [],
   "source": [
    "# Libraries\n",
    "import numpy as np\n",
    "import tensorflow as tf\n",
    "from tensorflow.keras.models import Sequential\n",
    "from tensorflow.keras.layers import Dense\n",
    "from tensorflow.keras.activations import linear, relu, sigmoid\n",
    "import matplotlib.pyplot as plt\n",
    "import gzip\n",
    "import struct "
   ]
  },
  {
   "cell_type": "code",
   "execution_count": 56,
   "id": "57b6ffdb-0cb6-4a4d-8798-d9d068bb44e9",
   "metadata": {},
   "outputs": [],
   "source": [
    "#Filenames\n",
    "test_images = 't10k-images-idx3-ubyte.gz'\n",
    "test_labels = 't10k-labels-idx1-ubyte.gz'\n",
    "train_images = 'train-images-idx3-ubyte.gz'\n",
    "train_labels = 'train-labels-idx1-ubyte.gz'\n",
    "file_arr = [test_images, test_labels,train_images,train_labels]"
   ]
  },
  {
   "cell_type": "markdown",
   "id": "ff933e40-e7ec-42ed-a844-c1161707d54b",
   "metadata": {},
   "source": [
    "File Formats for the MNIST Database\n",
    "\n"
   ]
  },
  {
   "cell_type": "code",
   "execution_count": 57,
   "id": "d96c3156-dac8-4918-897c-d42998d52f99",
   "metadata": {},
   "outputs": [],
   "source": [
    "# Function to parse MNIST data downloaded from http://yann.lecun.com/exdb/mnist/ \n",
    "def load_data(file, type):\n",
    "    with gzip.open(file, 'rb') as f:\n",
    "        if type == 'images':\n",
    "            magic_num, = struct.unpack(\">I\", f.read(4))\n",
    "            nimages, = struct.unpack(\">I\", f.read(4))\n",
    "            nrows, ncols = struct.unpack(\">II\", f.read(8))\n",
    "            totalBytes = nrows*ncols*nimages\n",
    "            data = np.asarray(struct.unpack(\">\"+\"B\"*totalBytes, f.read(totalBytes)))\n",
    "            data = data.reshape((nimages,nrows,ncols))    \n",
    "        else:\n",
    "            magic_num, = struct.unpack(\">I\", f.read(4))\n",
    "            nitems, = struct.unpack(\">I\", f.read(4))\n",
    "            data = np.asarray(struct.unpack(\">\"+\"B\"*nitems, f.read(nitems)))\n",
    "            data = data.reshape((nitems))\n",
    "    return data\n",
    "    "
   ]
  },
  {
   "cell_type": "code",
   "execution_count": 58,
   "id": "6b7f7c6d-d8c1-49bb-af08-1f664e767463",
   "metadata": {},
   "outputs": [
    {
     "name": "stdout",
     "output_type": "stream",
     "text": [
      "(60000, 28, 28) (60000,)\n"
     ]
    }
   ],
   "source": [
    "# Import MNIST Database - use the load_data function to extract X_train (pixels) and Y_train(labels)\n",
    "X_train = load_data(train_images, 'images')\n",
    "Y_train = load_data(train_labels, 'labels')\n",
    "print(X_train.shape, Y_train.shape)"
   ]
  },
  {
   "cell_type": "code",
   "execution_count": null,
   "id": "aac51d34-1bc0-4510-a560-f88a0cafe233",
   "metadata": {},
   "outputs": [],
   "source": []
  }
 ],
 "metadata": {
  "kernelspec": {
   "display_name": "Python 3 (ipykernel)",
   "language": "python",
   "name": "python3"
  },
  "language_info": {
   "codemirror_mode": {
    "name": "ipython",
    "version": 3
   },
   "file_extension": ".py",
   "mimetype": "text/x-python",
   "name": "python",
   "nbconvert_exporter": "python",
   "pygments_lexer": "ipython3",
   "version": "3.11.5"
  }
 },
 "nbformat": 4,
 "nbformat_minor": 5
}
